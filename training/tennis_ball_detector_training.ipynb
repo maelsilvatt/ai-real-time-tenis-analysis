{
 "cells": [
  {
   "cell_type": "markdown",
   "metadata": {},
   "source": [
    "### 1 - Download the dataset\n",
    "We are using Viren Dhanwani's workspace which has a quite collection of labeled images on tennis balls. I chose to download YoloV5 version because it is a faster near state-of-art YOLO model and will give us a nice approach to achieve high accuracy on our detection task."
   ]
  },
  {
   "cell_type": "code",
   "execution_count": null,
   "metadata": {},
   "outputs": [],
   "source": [
    "%pip install roboflow\n",
    "\n",
    "from roboflow import Roboflow\n",
    "rf = Roboflow(api_key=\"YOUR_ROBOFLOW_API_KEY\")\n",
    "project = rf.workspace(\"viren-dhanwani\").project(\"tennis-ball-detection\")\n",
    "version = project.version(6)\n",
    "dataset = version.download(\"yolov5\")"
   ]
  },
  {
   "cell_type": "markdown",
   "metadata": {},
   "source": [
    "### 1.1 - Reorganize dataset directories\n",
    "We are reorganizing the dataset folders by putting them inside an omoninous folder as a common practice when structuring data based projects."
   ]
  },
  {
   "cell_type": "code",
   "execution_count": null,
   "metadata": {},
   "outputs": [],
   "source": [
    "import shutil\n",
    "\n",
    "dataset_dir = 'tennis-ball-detection-6'\n",
    "\n",
    "shutil.move(f'{dataset_dir}/train',\n",
    "f'{dataset_dir}/{dataset_dir}/train',\n",
    ")\n",
    "shutil.move(f'{dataset_dir}/test',\n",
    "f'{dataset_dir}/{dataset_dir}/test',\n",
    ")\n",
    "shutil.move(f'{dataset_dir}/valid',\n",
    "f'{dataset_dir}/{dataset_dir}/valid',\n",
    ")"
   ]
  },
  {
   "cell_type": "markdown",
   "metadata": {},
   "source": [
    "### 2 - Training model\n",
    "In order to achieve the best accuracy on our detection task, we will train [YOLO 5.16](https://docs.ultralytics.com/yolov5/), known for its near-state-of-art performance and lightness when compared to more complex models. I strongly recommend using Google Colab's free GPUs. For comparison, the same task took 45 minutes using Colab's Nvidia Tesla T4 GPU."
   ]
  },
  {
   "cell_type": "code",
   "execution_count": null,
   "metadata": {},
   "outputs": [],
   "source": [
    "%pip install ultralytics\n",
    "%pip3 install torch torchvision torchaudio --index-url https://download.pytorch.org/whl/cu121"
   ]
  },
  {
   "cell_type": "code",
   "execution_count": null,
   "metadata": {},
   "outputs": [],
   "source": [
    "from ultralytics import YOLO\n",
    "\n",
    "model = YOLO('yolov5l6u.pt')\n",
    "\n",
    "results = model.train(data='tennis-ball-detection-6/data.yaml', epochs=100, imgsz=640, device=0)"
   ]
  }
 ],
 "metadata": {
  "kernelspec": {
   "display_name": "tennisvenv",
   "language": "python",
   "name": "python3"
  },
  "language_info": {
   "codemirror_mode": {
    "name": "ipython",
    "version": 3
   },
   "file_extension": ".py",
   "mimetype": "text/x-python",
   "name": "python",
   "nbconvert_exporter": "python",
   "pygments_lexer": "ipython3",
   "version": "3.12.3"
  }
 },
 "nbformat": 4,
 "nbformat_minor": 2
}
